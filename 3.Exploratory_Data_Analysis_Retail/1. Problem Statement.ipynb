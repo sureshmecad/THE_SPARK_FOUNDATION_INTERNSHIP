{
 "cells": [
  {
   "cell_type": "markdown",
   "metadata": {},
   "source": [
    "![3. Exploratory Data Analysis_Retail](image/1.JPG)"
   ]
  },
  {
   "cell_type": "raw",
   "metadata": {},
   "source": [
    "### Analysis questions:-\n",
    "\n",
    " - which state of US has higher frequency of sales?\n",
    " \n",
    " \n",
    " - in which year we had max sales?\n",
    " \n",
    " \n",
    " - in which month we have max sales?\n",
    " \n",
    " \n",
    " - which days of the month yield higher sales?\n",
    " \n",
    " \n",
    " - what are the top 10 states with high sales?\n",
    " \n",
    " \n",
    " - what are the top 20 cities with high sales?\n",
    " \n",
    " \n",
    " - top products highly in demand?\n",
    " \n",
    " \n",
    " - Most frequent customers?"
   ]
  },
  {
   "cell_type": "code",
   "execution_count": null,
   "metadata": {},
   "outputs": [],
   "source": []
  }
 ],
 "metadata": {
  "kernelspec": {
   "display_name": "Python 3",
   "language": "python",
   "name": "python3"
  },
  "language_info": {
   "codemirror_mode": {
    "name": "ipython",
    "version": 3
   },
   "file_extension": ".py",
   "mimetype": "text/x-python",
   "name": "python",
   "nbconvert_exporter": "python",
   "pygments_lexer": "ipython3",
   "version": "3.7.3"
  }
 },
 "nbformat": 4,
 "nbformat_minor": 2
}
